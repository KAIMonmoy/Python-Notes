{
  "nbformat": 4,
  "nbformat_minor": 0,
  "metadata": {
    "colab": {
      "name": "Weird-Pythony-Things.ipynb",
      "provenance": [],
      "authorship_tag": "ABX9TyPAlwIvOpKiKpLuePP2vCdX"
    },
    "kernelspec": {
      "name": "python3",
      "display_name": "Python 3"
    }
  },
  "cells": [
    {
      "cell_type": "code",
      "metadata": {
        "id": "Pl8tVa6Jme7C",
        "colab_type": "code",
        "outputId": "f71aa954-0004-409f-f02e-1af837d97298",
        "colab": {
          "base_uri": "https://localhost:8080/",
          "height": 374
        }
      },
      "source": [
        "import this"
      ],
      "execution_count": 0,
      "outputs": [
        {
          "output_type": "stream",
          "text": [
            "The Zen of Python, by Tim Peters\n",
            "\n",
            "Beautiful is better than ugly.\n",
            "Explicit is better than implicit.\n",
            "Simple is better than complex.\n",
            "Complex is better than complicated.\n",
            "Flat is better than nested.\n",
            "Sparse is better than dense.\n",
            "Readability counts.\n",
            "Special cases aren't special enough to break the rules.\n",
            "Although practicality beats purity.\n",
            "Errors should never pass silently.\n",
            "Unless explicitly silenced.\n",
            "In the face of ambiguity, refuse the temptation to guess.\n",
            "There should be one-- and preferably only one --obvious way to do it.\n",
            "Although that way may not be obvious at first unless you're Dutch.\n",
            "Now is better than never.\n",
            "Although never is often better than *right* now.\n",
            "If the implementation is hard to explain, it's a bad idea.\n",
            "If the implementation is easy to explain, it may be a good idea.\n",
            "Namespaces are one honking great idea -- let's do more of those!\n"
          ],
          "name": "stdout"
        }
      ]
    },
    {
      "cell_type": "markdown",
      "metadata": {
        "id": "TfX6UCWwe3JZ",
        "colab_type": "text"
      },
      "source": [
        "\n",
        "\n",
        "### is vs ==\n",
        "\n"
      ]
    },
    {
      "cell_type": "code",
      "metadata": {
        "id": "8u38Ygbkc1Uk",
        "colab_type": "code",
        "outputId": "eb55cba9-0d06-4b7b-a9b4-e8d3f69a462f",
        "colab": {
          "base_uri": "https://localhost:8080/",
          "height": 51
        }
      },
      "source": [
        "a = [1, 2, 3]\n",
        "b = a\n",
        "\n",
        "print(f'a is b : {a is b}')\n",
        "print(f'a == b : {a == b}')"
      ],
      "execution_count": 0,
      "outputs": [
        {
          "output_type": "stream",
          "text": [
            "a is b : True\n",
            "a == b : True\n"
          ],
          "name": "stdout"
        }
      ]
    },
    {
      "cell_type": "code",
      "metadata": {
        "id": "tgwb4JQJff0w",
        "colab_type": "code",
        "outputId": "eb06637e-f322-4676-f382-df0be49ca74d",
        "colab": {
          "base_uri": "https://localhost:8080/",
          "height": 51
        }
      },
      "source": [
        "c = list(a)\n",
        "\n",
        "print(f'a is c : {a is c}')\n",
        "print(f'a == c : {a == c}')"
      ],
      "execution_count": 0,
      "outputs": [
        {
          "output_type": "stream",
          "text": [
            "a is c : False\n",
            "a == c : True\n"
          ],
          "name": "stdout"
        }
      ]
    },
    {
      "cell_type": "code",
      "metadata": {
        "id": "7lhw-QyVfnUt",
        "colab_type": "code",
        "outputId": "616dd1f3-e6dd-4bee-ca1a-77490101caba",
        "colab": {
          "base_uri": "https://localhost:8080/",
          "height": 68
        }
      },
      "source": [
        "print(f'id of a: {id(a)}')\n",
        "print(f'id of b: {id(b)}')\n",
        "print(f'id of c: {id(c)}')"
      ],
      "execution_count": 0,
      "outputs": [
        {
          "output_type": "stream",
          "text": [
            "id of a: 140208452539464\n",
            "id of b: 140208452539464\n",
            "id of c: 140208443274952\n"
          ],
          "name": "stdout"
        }
      ]
    },
    {
      "cell_type": "markdown",
      "metadata": {
        "id": "E82qFlr8f22T",
        "colab_type": "text"
      },
      "source": [
        "'==' and 'is' : different things! \\\\\n",
        "*'=='* checks **value**, *'is'* checks **id**"
      ]
    },
    {
      "cell_type": "markdown",
      "metadata": {
        "id": "XHITectQgOJq",
        "colab_type": "text"
      },
      "source": [
        "### Function Argument Unpacking"
      ]
    },
    {
      "cell_type": "code",
      "metadata": {
        "id": "ivxJpuFwgc-y",
        "colab_type": "code",
        "colab": {}
      },
      "source": [
        "def print_coord(x, y, z):\n",
        "    print(f\"<{x}, {y}, {z}>\")"
      ],
      "execution_count": 0,
      "outputs": []
    },
    {
      "cell_type": "code",
      "metadata": {
        "id": "MD7uYNNDgsjv",
        "colab_type": "code",
        "colab": {}
      },
      "source": [
        "coord_list = [1, 2, 3]\n",
        "coord_tuple = (4, 5, 6)\n",
        "coord_dict = dict(\n",
        "    x = 7,\n",
        "    y = 8,\n",
        "    z = 9\n",
        ")"
      ],
      "execution_count": 0,
      "outputs": []
    },
    {
      "cell_type": "code",
      "metadata": {
        "id": "6QQpi3dLhBck",
        "colab_type": "code",
        "outputId": "d1ff4284-c555-4d18-d8ee-30395b6cb0c7",
        "colab": {
          "base_uri": "https://localhost:8080/",
          "height": 85
        }
      },
      "source": [
        "# We don't have to do the following\n",
        "print_coord(coord_list[0],coord_list[1],coord_list[2])\n",
        "\n",
        "print(\"---------------------------\")\n",
        "# Better approach\n",
        "print_coord(*coord_list)\n",
        "print_coord(*coord_tuple)"
      ],
      "execution_count": 0,
      "outputs": [
        {
          "output_type": "stream",
          "text": [
            "<1, 2, 3>\n",
            "---------------------------\n",
            "<1, 2, 3>\n",
            "<4, 5, 6>\n"
          ],
          "name": "stdout"
        }
      ]
    },
    {
      "cell_type": "code",
      "metadata": {
        "id": "vpN5fQCFhx1l",
        "colab_type": "code",
        "outputId": "cfec48ad-a5d0-497e-b9b6-7c5b3c5feed4",
        "colab": {
          "base_uri": "https://localhost:8080/",
          "height": 68
        }
      },
      "source": [
        "# Dicts won't work like this\n",
        "print_coord(*coord_dict)\n",
        "print(\"---------------------------\")\n",
        "\n",
        "# We'll have to use ** dict expansion\n",
        "print_coord(**coord_dict)\n",
        "\n",
        "# *dict  => dict.keys()\n",
        "# **dict => dict.items() : key = value\n",
        "\n",
        "# In function argument expansion the keys should match the argument names,\n",
        "# we should not rely on the order of dict."
      ],
      "execution_count": 0,
      "outputs": [
        {
          "output_type": "stream",
          "text": [
            "<x, y, z>\n",
            "---------------------------\n",
            "<7, 8, 9>\n"
          ],
          "name": "stdout"
        }
      ]
    },
    {
      "cell_type": "markdown",
      "metadata": {
        "id": "lYqMtQLjirgN",
        "colab_type": "text"
      },
      "source": [
        "### Dictionray WTF!!!"
      ]
    },
    {
      "cell_type": "code",
      "metadata": {
        "id": "FEGtRsX0ivaQ",
        "colab_type": "code",
        "outputId": "54e81b23-aa0a-42db-8212-d74ae256ba94",
        "colab": {
          "base_uri": "https://localhost:8080/",
          "height": 34
        }
      },
      "source": [
        "wtf_dict = {\n",
        "    True: 'Chandler',\n",
        "    1: 'Muriel',\n",
        "    1.0: 'Bing'\n",
        "}\n",
        "\n",
        "print(wtf_dict)"
      ],
      "execution_count": 0,
      "outputs": [
        {
          "output_type": "stream",
          "text": [
            "{True: 'Bing'}\n"
          ],
          "name": "stdout"
        }
      ]
    },
    {
      "cell_type": "markdown",
      "metadata": {
        "id": "vejZiJJCjJrR",
        "colab_type": "text"
      },
      "source": [
        "This can be explained by **Hash-Collision** and **Inheritance of Boolean**\n"
      ]
    },
    {
      "cell_type": "code",
      "metadata": {
        "id": "5ENXTAiSjHRp",
        "colab_type": "code",
        "outputId": "c99a7c22-e3cc-459a-8315-fdb82385a000",
        "colab": {
          "base_uri": "https://localhost:8080/",
          "height": 68
        }
      },
      "source": [
        "print(f'Hash of True: {hash(True)}')\n",
        "print(f'Hash of 1: {hash(1)}')\n",
        "print(f'Hash of 1.0: {hash(1.0)}')\n",
        "\n",
        "# Same hash value for True, 1 & 1.0"
      ],
      "execution_count": 0,
      "outputs": [
        {
          "output_type": "stream",
          "text": [
            "Hash of True: 1\n",
            "Hash of 1: 1\n",
            "Hash of 1.0: 1\n"
          ],
          "name": "stdout"
        }
      ]
    },
    {
      "cell_type": "code",
      "metadata": {
        "id": "cjVn5rmOjuEc",
        "colab_type": "code",
        "outputId": "d60502a5-82e7-493d-86ce-8209b214395c",
        "colab": {
          "base_uri": "https://localhost:8080/",
          "height": 34
        }
      },
      "source": [
        "True == 1 == 1.0"
      ],
      "execution_count": 0,
      "outputs": [
        {
          "output_type": "execute_result",
          "data": {
            "text/plain": [
              "True"
            ]
          },
          "metadata": {
            "tags": []
          },
          "execution_count": 18
        }
      ]
    },
    {
      "cell_type": "markdown",
      "metadata": {
        "id": "4j0TuPpBkI_h",
        "colab_type": "text"
      },
      "source": [
        "Accoring to Official Python Docs: \\\\\n",
        "Boolean values are the two constant objects False and True. They are used to represent truth values (although other values can also be considered false or true). **In numeric contexts (for example when used as the argument to an arithmetic operator), they behave like the integers 0 and 1, respectively**. The built-in function bool() can be used to convert any value to a Boolean, if the value can be interpreted as a truth value (see section Truth Value Testing above).\n",
        "\n",
        "Thus, True == 1 kind of makes sense.\n",
        "\n",
        "And 1 == 1.0. That's why, after hash collision equality check passes and the value for key True gets updated."
      ]
    },
    {
      "cell_type": "code",
      "metadata": {
        "id": "pKN1G74Sj2hp",
        "colab_type": "code",
        "outputId": "770fbdc4-f2b0-4b7a-da14-e3d00501658e",
        "colab": {
          "base_uri": "https://localhost:8080/",
          "height": 68
        }
      },
      "source": [
        "simplified_wtf_dict = dict()\n",
        "\n",
        "simplified_wtf_dict[True] = 'Chandler'\n",
        "print(simplified_wtf_dict)\n",
        "\n",
        "simplified_wtf_dict[1] = 'Muriel'\n",
        "print(simplified_wtf_dict)\n",
        "\n",
        "simplified_wtf_dict[1.0] = 'Bing'\n",
        "print(simplified_wtf_dict)"
      ],
      "execution_count": 0,
      "outputs": [
        {
          "output_type": "stream",
          "text": [
            "{True: 'Chandler'}\n",
            "{True: 'Muriel'}\n",
            "{True: 'Bing'}\n"
          ],
          "name": "stdout"
        }
      ]
    },
    {
      "cell_type": "code",
      "metadata": {
        "id": "bzCxu4QflWNL",
        "colab_type": "code",
        "outputId": "bf680494-8a8d-45bb-e635-32261782490b",
        "colab": {
          "base_uri": "https://localhost:8080/",
          "height": 68
        }
      },
      "source": [
        "simplified_wtf_dict = dict()\n",
        "\n",
        "simplified_wtf_dict[1.0] = 'Chandler'\n",
        "print(simplified_wtf_dict)\n",
        "\n",
        "simplified_wtf_dict[1] = 'Muriel'\n",
        "print(simplified_wtf_dict)\n",
        "\n",
        "simplified_wtf_dict[True] = 'Bing'\n",
        "print(simplified_wtf_dict)\n",
        "\n",
        "# The key-value used in the first assignment works as the key "
      ],
      "execution_count": 0,
      "outputs": [
        {
          "output_type": "stream",
          "text": [
            "{1.0: 'Chandler'}\n",
            "{1.0: 'Muriel'}\n",
            "{1.0: 'Bing'}\n"
          ],
          "name": "stdout"
        }
      ]
    },
    {
      "cell_type": "markdown",
      "metadata": {
        "id": "QjPBmHHKl5OY",
        "colab_type": "text"
      },
      "source": [
        "### Easy count & find_most_common!!!"
      ]
    },
    {
      "cell_type": "code",
      "metadata": {
        "id": "32qBdOR-mIt2",
        "colab_type": "code",
        "outputId": "1f67d928-e229-45a0-b029-424a72038d19",
        "colab": {
          "base_uri": "https://localhost:8080/",
          "height": 34
        }
      },
      "source": [
        "# Usefulness of Counter\n",
        "from collections import Counter\n",
        "\n",
        "# Generating random data for testing\n",
        "from random import randint\n",
        "data = [randint(1, 10) for _ in range(42)]\n",
        "\n",
        "print(data)"
      ],
      "execution_count": 0,
      "outputs": [
        {
          "output_type": "stream",
          "text": [
            "[7, 7, 10, 5, 6, 5, 8, 7, 8, 2, 4, 7, 4, 3, 7, 1, 10, 8, 1, 5, 9, 1, 8, 6, 10, 8, 8, 1, 7, 5, 2, 2, 3, 8, 6, 5, 8, 7, 10, 10, 6, 7]\n"
          ],
          "name": "stdout"
        }
      ]
    },
    {
      "cell_type": "code",
      "metadata": {
        "id": "ycQdTxQrm6Jz",
        "colab_type": "code",
        "outputId": "8f6f7c98-7051-4e7e-be94-649e533dd732",
        "colab": {
          "base_uri": "https://localhost:8080/",
          "height": 34
        }
      },
      "source": [
        "data_counter = Counter(data)\n",
        "print(data_counter)"
      ],
      "execution_count": 0,
      "outputs": [
        {
          "output_type": "stream",
          "text": [
            "Counter({7: 8, 8: 8, 10: 5, 5: 5, 6: 4, 1: 4, 2: 3, 4: 2, 3: 2, 9: 1})\n"
          ],
          "name": "stdout"
        }
      ]
    },
    {
      "cell_type": "code",
      "metadata": {
        "id": "68WSyGnvnC7Y",
        "colab_type": "code",
        "outputId": "c83d32df-a805-4f67-dcbe-1724ba2a0c3b",
        "colab": {
          "base_uri": "https://localhost:8080/",
          "height": 34
        }
      },
      "source": [
        "# <instance of <Counter>>.most_common(n) returns top 'n' most common items \n",
        "data_counter.most_common(3)"
      ],
      "execution_count": 0,
      "outputs": [
        {
          "output_type": "execute_result",
          "data": {
            "text/plain": [
              "[(7, 8), (8, 8), (10, 5)]"
            ]
          },
          "metadata": {
            "tags": []
          },
          "execution_count": 26
        }
      ]
    },
    {
      "cell_type": "markdown",
      "metadata": {
        "id": "1JJOctz9qaJ_",
        "colab_type": "text"
      },
      "source": [
        "### nPr & nCr"
      ]
    },
    {
      "cell_type": "code",
      "metadata": {
        "id": "FWHT9AEsqic1",
        "colab_type": "code",
        "outputId": "e2b23b90-41b6-4d40-d0ba-3fa372acd5ba",
        "colab": {
          "base_uri": "https://localhost:8080/",
          "height": 170
        }
      },
      "source": [
        "from itertools import permutations, combinations, combinations_with_replacement\n",
        "\n",
        "items = ['A', 'B', 'C', 'D']\n",
        "\n",
        "print('Permutation:')\n",
        "print(*permutations(items, 2))\n",
        "print('------------')\n",
        "print('Combination:')\n",
        "print(*combinations(items, 2))\n",
        "print('------------')\n",
        "print('Combination with Repeated Values:')\n",
        "print(*combinations_with_replacement(items, 2))\n",
        "print('------------')"
      ],
      "execution_count": 0,
      "outputs": [
        {
          "output_type": "stream",
          "text": [
            "Permutation:\n",
            "('A', 'B') ('A', 'C') ('A', 'D') ('B', 'A') ('B', 'C') ('B', 'D') ('C', 'A') ('C', 'B') ('C', 'D') ('D', 'A') ('D', 'B') ('D', 'C')\n",
            "------------\n",
            "Combination:\n",
            "('A', 'B') ('A', 'C') ('A', 'D') ('B', 'C') ('B', 'D') ('C', 'D')\n",
            "------------\n",
            "Combination with Repeated Values:\n",
            "('A', 'A') ('A', 'B') ('A', 'C') ('A', 'D') ('B', 'B') ('B', 'C') ('B', 'D') ('C', 'C') ('C', 'D') ('D', 'D')\n",
            "------------\n"
          ],
          "name": "stdout"
        }
      ]
    },
    {
      "cell_type": "markdown",
      "metadata": {
        "id": "mpg2Fg8lrcqf",
        "colab_type": "text"
      },
      "source": [
        "### Use maketrans & translate!"
      ]
    },
    {
      "cell_type": "code",
      "metadata": {
        "id": "4r4U85Q6rls2",
        "colab_type": "code",
        "outputId": "abb9e964-efb4-4993-ea1a-353356e4c2b1",
        "colab": {
          "base_uri": "https://localhost:8080/",
          "height": 102
        }
      },
      "source": [
        "import string\n",
        "\n",
        "line = string.ascii_lowercase\n",
        "\n",
        "mapping = {\n",
        "    'a': 'X',\n",
        "    'b': 'Y',\n",
        "    'c': 'Z',\n",
        "    'd': None\n",
        "}\n",
        "\n",
        "print('Before Translation:')\n",
        "print(line)\n",
        "print('---------------')\n",
        "\n",
        "mapped = line.maketrans(mapping)\n",
        "changed_line = line.translate(mapped)\n",
        "\n",
        "print('After Translation:')\n",
        "print(changed_line)\n",
        "\n",
        "# a -> X, b -> Y, c -> Z, d -> DELETED"
      ],
      "execution_count": 0,
      "outputs": [
        {
          "output_type": "stream",
          "text": [
            "Before Translation:\n",
            "abcdefghijklmnopqrstuvwxyz\n",
            "---------------\n",
            "After Translation:\n",
            "XYZefghijklmnopqrstuvwxyz\n"
          ],
          "name": "stdout"
        }
      ]
    },
    {
      "cell_type": "markdown",
      "metadata": {
        "id": "BanF3GVwtSFP",
        "colab_type": "text"
      },
      "source": [
        "### __ __str__ __  &  __ __repr__ __"
      ]
    },
    {
      "cell_type": "markdown",
      "metadata": {
        "id": "b0Vqsk1Mtmek",
        "colab_type": "text"
      },
      "source": [
        "__ __str__ __  => In easy, human-readable format \\\\\n",
        "__ __repr__ __ => For developers. Often recommeded to state valid python code to reproduce the object.\n",
        "\n",
        "\\_\\_str\\_\\_ : Undefined => \\_\\_repr\\_\\_ is called instead of \\_\\_str\\_\\_ \\\\\n",
        "\\_\\_repr\\_\\_ : Undefined => *default* is called instead of \\_\\_repr\\_\\_ \\\\\n",
        "\\_\\_str\\_\\_ & \\_\\_repr\\_\\_ : Undefined => *default* is called\n",
        "\n",
        "Good Practice: At least  \\_\\_repr\\_\\_ should be defined for a custom class!"
      ]
    },
    {
      "cell_type": "code",
      "metadata": {
        "id": "NCgD3jBRusjX",
        "colab_type": "code",
        "colab": {}
      },
      "source": [
        "import datetime"
      ],
      "execution_count": 0,
      "outputs": []
    },
    {
      "cell_type": "code",
      "metadata": {
        "id": "CzQdJASFuzza",
        "colab_type": "code",
        "outputId": "3b8b7c0b-3f12-422f-a493-82a06bec48d9",
        "colab": {
          "base_uri": "https://localhost:8080/",
          "height": 34
        }
      },
      "source": [
        "# __repr__\n",
        "datetime.datetime.today()"
      ],
      "execution_count": 0,
      "outputs": [
        {
          "output_type": "execute_result",
          "data": {
            "text/plain": [
              "datetime.datetime(2020, 5, 28, 10, 2, 20, 827095)"
            ]
          },
          "metadata": {
            "tags": []
          },
          "execution_count": 35
        }
      ]
    },
    {
      "cell_type": "code",
      "metadata": {
        "id": "w8rwGFGnu4mo",
        "colab_type": "code",
        "outputId": "11daa786-5592-4955-c7c9-bf7f0e251f14",
        "colab": {
          "base_uri": "https://localhost:8080/",
          "height": 34
        }
      },
      "source": [
        "# __str__\n",
        "print(datetime.datetime.today())"
      ],
      "execution_count": 0,
      "outputs": [
        {
          "output_type": "stream",
          "text": [
            "2020-05-28 10:02:48.942496\n"
          ],
          "name": "stdout"
        }
      ]
    },
    {
      "cell_type": "code",
      "metadata": {
        "id": "F8AHwrCwu_d9",
        "colab_type": "code",
        "outputId": "ce66bd41-2ed7-4662-b79d-499d6b134a21",
        "colab": {
          "base_uri": "https://localhost:8080/",
          "height": 51
        }
      },
      "source": [
        "class MyClass:\n",
        "    def __repr__(self):\n",
        "        return '__repr__ : MyClass'\n",
        "\n",
        "    def __str__(self):\n",
        "        return '__str__ : MyClass'\n",
        "\n",
        "obj = MyClass()\n",
        "print(obj)\n",
        "obj"
      ],
      "execution_count": 0,
      "outputs": [
        {
          "output_type": "stream",
          "text": [
            "__str__ : MyClass\n"
          ],
          "name": "stdout"
        },
        {
          "output_type": "execute_result",
          "data": {
            "text/plain": [
              "__repr__ : MyClass"
            ]
          },
          "metadata": {
            "tags": []
          },
          "execution_count": 38
        }
      ]
    },
    {
      "cell_type": "code",
      "metadata": {
        "id": "_RPrW0PIvkIk",
        "colab_type": "code",
        "outputId": "9894f914-1162-4e2e-c978-621beef52d43",
        "colab": {
          "base_uri": "https://localhost:8080/",
          "height": 51
        }
      },
      "source": [
        "class MyClassNoStr:\n",
        "    def __repr__(self):\n",
        "        return '__repr__ : MyClass'\n",
        "\n",
        "obj = MyClassNoStr()\n",
        "print(obj)\n",
        "obj"
      ],
      "execution_count": 0,
      "outputs": [
        {
          "output_type": "stream",
          "text": [
            "__repr__ : MyClass\n"
          ],
          "name": "stdout"
        },
        {
          "output_type": "execute_result",
          "data": {
            "text/plain": [
              "__repr__ : MyClass"
            ]
          },
          "metadata": {
            "tags": []
          },
          "execution_count": 42
        }
      ]
    },
    {
      "cell_type": "code",
      "metadata": {
        "id": "HCfcB5vwv9Tk",
        "colab_type": "code",
        "outputId": "8545b598-77bc-4b02-ec61-9ed15b6733ae",
        "colab": {
          "base_uri": "https://localhost:8080/",
          "height": 51
        }
      },
      "source": [
        "class MyClassNoRepr:\n",
        "    def __str__(self):\n",
        "        return '__str__ : MyClass'\n",
        "\n",
        "obj = MyClassNoRepr()\n",
        "print(obj)\n",
        "obj"
      ],
      "execution_count": 0,
      "outputs": [
        {
          "output_type": "stream",
          "text": [
            "__str__ : MyClass\n"
          ],
          "name": "stdout"
        },
        {
          "output_type": "execute_result",
          "data": {
            "text/plain": [
              "<__main__.MyClassNoRepr at 0x7f84d25a6470>"
            ]
          },
          "metadata": {
            "tags": []
          },
          "execution_count": 45
        }
      ]
    },
    {
      "cell_type": "markdown",
      "metadata": {
        "id": "vuhyBPJtlvzn",
        "colab_type": "text"
      },
      "source": [
        "### The End (X _ X)"
      ]
    }
  ]
}